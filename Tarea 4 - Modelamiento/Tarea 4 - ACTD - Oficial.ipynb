{
 "cells": [
  {
   "cell_type": "markdown",
   "metadata": {},
   "source": [
    "# Tarea 4 Oficial"
   ]
  },
  {
   "cell_type": "markdown",
   "metadata": {},
   "source": [
    "### Importo Librerias"
   ]
  },
  {
   "cell_type": "code",
   "execution_count": 2,
   "metadata": {},
   "outputs": [
    {
     "name": "stderr",
     "output_type": "stream",
     "text": [
      "/var/folders/_1/r3fd396n541090nnq34cyg100000gn/T/ipykernel_22144/1168386593.py:1: DeprecationWarning: \n",
      "Pyarrow will become a required dependency of pandas in the next major release of pandas (pandas 3.0),\n",
      "(to allow more performant data types, such as the Arrow string type, and better interoperability with other libraries)\n",
      "but was not found to be installed on your system.\n",
      "If this would cause problems for you,\n",
      "please provide us feedback at https://github.com/pandas-dev/pandas/issues/54466\n",
      "        \n",
      "  import pandas as pd\n"
     ]
    }
   ],
   "source": [
    "\n",
    "import pandas as pd\n",
    "import seaborn as sns\n",
    "import numpy as np\n",
    "from sklearn import metrics\n",
    "import matplotlib.pyplot as plt\n",
    "\n",
    "from sklearn.model_selection import train_test_split\n",
    "from sklearn.linear_model import LinearRegression\n",
    "from sklearn.metrics import mean_squared_error\n",
    "import statsmodels.api as sm\n",
    "import statsmodels.formula.api as smf\n",
    "\n",
    "from statsmodels.stats.outliers_influence import variance_inflation_factor"
   ]
  },
  {
   "cell_type": "code",
   "execution_count": 3,
   "metadata": {},
   "outputs": [],
   "source": [
    "dflimpio= pd.read_csv('DataFrameLimpio.csv')"
   ]
  },
  {
   "cell_type": "markdown",
   "metadata": {},
   "source": [
    "### Modelo Decidido a utilizar"
   ]
  },
  {
   "cell_type": "code",
   "execution_count": 4,
   "metadata": {},
   "outputs": [
    {
     "data": {
      "text/html": [
       "<div>\n",
       "<style scoped>\n",
       "    .dataframe tbody tr th:only-of-type {\n",
       "        vertical-align: middle;\n",
       "    }\n",
       "\n",
       "    .dataframe tbody tr th {\n",
       "        vertical-align: top;\n",
       "    }\n",
       "\n",
       "    .dataframe thead th {\n",
       "        text-align: right;\n",
       "    }\n",
       "</style>\n",
       "<table border=\"1\" class=\"dataframe\">\n",
       "  <thead>\n",
       "    <tr style=\"text-align: right;\">\n",
       "      <th></th>\n",
       "      <th>department</th>\n",
       "      <th>team</th>\n",
       "      <th>smv</th>\n",
       "      <th>over_time</th>\n",
       "      <th>incentive</th>\n",
       "      <th>no_of_workers</th>\n",
       "    </tr>\n",
       "  </thead>\n",
       "  <tbody>\n",
       "    <tr>\n",
       "      <th>331</th>\n",
       "      <td>sweing</td>\n",
       "      <td>3</td>\n",
       "      <td>22.52</td>\n",
       "      <td>8460</td>\n",
       "      <td>50</td>\n",
       "      <td>57.0</td>\n",
       "    </tr>\n",
       "    <tr>\n",
       "      <th>215</th>\n",
       "      <td>finishing</td>\n",
       "      <td>9</td>\n",
       "      <td>3.94</td>\n",
       "      <td>1440</td>\n",
       "      <td>0</td>\n",
       "      <td>8.0</td>\n",
       "    </tr>\n",
       "    <tr>\n",
       "      <th>72</th>\n",
       "      <td>sweing</td>\n",
       "      <td>12</td>\n",
       "      <td>11.61</td>\n",
       "      <td>7200</td>\n",
       "      <td>50</td>\n",
       "      <td>32.0</td>\n",
       "    </tr>\n",
       "    <tr>\n",
       "      <th>639</th>\n",
       "      <td>sweing</td>\n",
       "      <td>12</td>\n",
       "      <td>15.26</td>\n",
       "      <td>2880</td>\n",
       "      <td>63</td>\n",
       "      <td>34.0</td>\n",
       "    </tr>\n",
       "    <tr>\n",
       "      <th>803</th>\n",
       "      <td>sweing</td>\n",
       "      <td>7</td>\n",
       "      <td>30.10</td>\n",
       "      <td>2280</td>\n",
       "      <td>45</td>\n",
       "      <td>59.0</td>\n",
       "    </tr>\n",
       "  </tbody>\n",
       "</table>\n",
       "</div>"
      ],
      "text/plain": [
       "    department  team    smv  over_time  incentive  no_of_workers\n",
       "331     sweing     3  22.52       8460         50           57.0\n",
       "215  finishing     9   3.94       1440          0            8.0\n",
       "72      sweing    12  11.61       7200         50           32.0\n",
       "639     sweing    12  15.26       2880         63           34.0\n",
       "803     sweing     7  30.10       2280         45           59.0"
      ]
     },
     "execution_count": 4,
     "metadata": {},
     "output_type": "execute_result"
    }
   ],
   "source": [
    "#model_ALR = smf.ols(formula=\"actual_productivity ~ C(department)+C(quarter)+C(team)+smv+over_time+incentive+no_of_workers\", data=dflimpio).fit()\n",
    "Factores= [\"department\", \"team\", \"smv\", \"over_time\", \"incentive\", \"no_of_workers\"]\n",
    "\n",
    "\n",
    "X = dflimpio[Factores]\n",
    "y = dflimpio[\"actual_productivity\"]\n",
    "\n",
    "X_train, X_test, y_train, y_test = train_test_split(X, y, random_state=1)\n",
    "\n",
    "X_train.head()\n",
    "\n"
   ]
  },
  {
   "cell_type": "code",
   "execution_count": 5,
   "metadata": {},
   "outputs": [
    {
     "data": {
      "text/plain": [
       "331    0.750038\n",
       "215    0.858144\n",
       "72     0.800246\n",
       "639    0.800355\n",
       "803    0.750533\n",
       "Name: actual_productivity, dtype: float64"
      ]
     },
     "execution_count": 5,
     "metadata": {},
     "output_type": "execute_result"
    }
   ],
   "source": [
    "y_train.head()"
   ]
  },
  {
   "cell_type": "code",
   "execution_count": 6,
   "metadata": {},
   "outputs": [
    {
     "data": {
      "text/html": [
       "<div>\n",
       "<style scoped>\n",
       "    .dataframe tbody tr th:only-of-type {\n",
       "        vertical-align: middle;\n",
       "    }\n",
       "\n",
       "    .dataframe tbody tr th {\n",
       "        vertical-align: top;\n",
       "    }\n",
       "\n",
       "    .dataframe thead th {\n",
       "        text-align: right;\n",
       "    }\n",
       "</style>\n",
       "<table border=\"1\" class=\"dataframe\">\n",
       "  <thead>\n",
       "    <tr style=\"text-align: right;\">\n",
       "      <th></th>\n",
       "      <th>department</th>\n",
       "      <th>team</th>\n",
       "      <th>smv</th>\n",
       "      <th>over_time</th>\n",
       "      <th>incentive</th>\n",
       "      <th>no_of_workers</th>\n",
       "      <th>actual_productivity</th>\n",
       "    </tr>\n",
       "  </thead>\n",
       "  <tbody>\n",
       "    <tr>\n",
       "      <th>331</th>\n",
       "      <td>sweing</td>\n",
       "      <td>3</td>\n",
       "      <td>22.52</td>\n",
       "      <td>8460</td>\n",
       "      <td>50</td>\n",
       "      <td>57.0</td>\n",
       "      <td>0.750038</td>\n",
       "    </tr>\n",
       "    <tr>\n",
       "      <th>215</th>\n",
       "      <td>finishing</td>\n",
       "      <td>9</td>\n",
       "      <td>3.94</td>\n",
       "      <td>1440</td>\n",
       "      <td>0</td>\n",
       "      <td>8.0</td>\n",
       "      <td>0.858144</td>\n",
       "    </tr>\n",
       "    <tr>\n",
       "      <th>72</th>\n",
       "      <td>sweing</td>\n",
       "      <td>12</td>\n",
       "      <td>11.61</td>\n",
       "      <td>7200</td>\n",
       "      <td>50</td>\n",
       "      <td>32.0</td>\n",
       "      <td>0.800246</td>\n",
       "    </tr>\n",
       "    <tr>\n",
       "      <th>639</th>\n",
       "      <td>sweing</td>\n",
       "      <td>12</td>\n",
       "      <td>15.26</td>\n",
       "      <td>2880</td>\n",
       "      <td>63</td>\n",
       "      <td>34.0</td>\n",
       "      <td>0.800355</td>\n",
       "    </tr>\n",
       "    <tr>\n",
       "      <th>803</th>\n",
       "      <td>sweing</td>\n",
       "      <td>7</td>\n",
       "      <td>30.10</td>\n",
       "      <td>2280</td>\n",
       "      <td>45</td>\n",
       "      <td>59.0</td>\n",
       "      <td>0.750533</td>\n",
       "    </tr>\n",
       "  </tbody>\n",
       "</table>\n",
       "</div>"
      ],
      "text/plain": [
       "    department  team    smv  over_time  incentive  no_of_workers  \\\n",
       "331     sweing     3  22.52       8460         50           57.0   \n",
       "215  finishing     9   3.94       1440          0            8.0   \n",
       "72      sweing    12  11.61       7200         50           32.0   \n",
       "639     sweing    12  15.26       2880         63           34.0   \n",
       "803     sweing     7  30.10       2280         45           59.0   \n",
       "\n",
       "     actual_productivity  \n",
       "331             0.750038  \n",
       "215             0.858144  \n",
       "72              0.800246  \n",
       "639             0.800355  \n",
       "803             0.750533  "
      ]
     },
     "execution_count": 6,
     "metadata": {},
     "output_type": "execute_result"
    }
   ],
   "source": [
    "df_train=X_train.assign(actual_productivity=y_train)\n",
    "df_train.head()"
   ]
  },
  {
   "cell_type": "code",
   "execution_count": 7,
   "metadata": {},
   "outputs": [
    {
     "name": "stdout",
     "output_type": "stream",
     "text": [
      "                             OLS Regression Results                            \n",
      "===============================================================================\n",
      "Dep. Variable:     actual_productivity   R-squared:                       0.315\n",
      "Model:                             OLS   Adj. R-squared:                  0.302\n",
      "Method:                  Least Squares   F-statistic:                     24.22\n",
      "Date:                 Mon, 11 Mar 2024   Prob (F-statistic):           9.02e-59\n",
      "Time:                         22:25:10   Log-Likelihood:                 460.82\n",
      "No. Observations:                  861   AIC:                            -887.6\n",
      "Df Residuals:                      844   BIC:                            -806.8\n",
      "Df Model:                           16                                         \n",
      "Covariance Type:             nonrobust                                         \n",
      "===========================================================================================\n",
      "                              coef    std err          t      P>|t|      [0.025      0.975]\n",
      "-------------------------------------------------------------------------------------------\n",
      "Intercept                   0.7794      0.020     38.367      0.000       0.739       0.819\n",
      "C(department)[T.sweing]    -0.2333      0.040     -5.868      0.000      -0.311      -0.155\n",
      "C(team)[T.2]               -0.0225      0.023     -0.973      0.331      -0.068       0.023\n",
      "C(team)[T.3]               -0.0054      0.024     -0.229      0.819      -0.052       0.041\n",
      "C(team)[T.4]                0.0015      0.024      0.063      0.950      -0.045       0.048\n",
      "C(team)[T.5]               -0.0329      0.026     -1.291      0.197      -0.083       0.017\n",
      "C(team)[T.6]               -0.0424      0.026     -1.615      0.107      -0.094       0.009\n",
      "C(team)[T.7]               -0.0536      0.024     -2.236      0.026      -0.101      -0.007\n",
      "C(team)[T.8]               -0.0499      0.024     -2.091      0.037      -0.097      -0.003\n",
      "C(team)[T.9]               -0.0510      0.023     -2.228      0.026      -0.096      -0.006\n",
      "C(team)[T.10]              -0.0482      0.024     -2.004      0.045      -0.095      -0.001\n",
      "C(team)[T.11]              -0.0857      0.027     -3.182      0.002      -0.139      -0.033\n",
      "C(team)[T.12]              -0.0022      0.027     -0.084      0.933      -0.055       0.050\n",
      "smv                        -0.0037      0.002     -2.302      0.022      -0.007      -0.001\n",
      "over_time               -6.254e-06   2.29e-06     -2.733      0.006   -1.07e-05   -1.76e-06\n",
      "incentive                   0.0040      0.000     16.139      0.000       0.004       0.005\n",
      "no_of_workers               0.0031      0.001      2.905      0.004       0.001       0.005\n",
      "==============================================================================\n",
      "Omnibus:                      123.424   Durbin-Watson:                   1.923\n",
      "Prob(Omnibus):                  0.000   Jarque-Bera (JB):              199.600\n",
      "Skew:                          -0.934   Prob(JB):                     4.54e-44\n",
      "Kurtosis:                       4.439   Cond. No.                     7.12e+04\n",
      "==============================================================================\n",
      "\n",
      "Notes:\n",
      "[1] Standard Errors assume that the covariance matrix of the errors is correctly specified.\n",
      "[2] The condition number is large, 7.12e+04. This might indicate that there are\n",
      "strong multicollinearity or other numerical problems.\n"
     ]
    }
   ],
   "source": [
    "model_ALR = smf.ols(formula=\"actual_productivity ~ C(department)+C(team)+smv+over_time+incentive+no_of_workers\", data=df_train).fit()\n",
    "\n",
    "print(model_ALR.summary())"
   ]
  },
  {
   "cell_type": "code",
   "execution_count": 8,
   "metadata": {},
   "outputs": [
    {
     "name": "stdout",
     "output_type": "stream",
     "text": [
      "[24.338428252048217, 6.39745952354767, 3.357665610792839, 32.17739241856998]\n"
     ]
    }
   ],
   "source": [
    "x_vifs=X_train.drop(columns=[\"department\",\"team\"])\n",
    "\n",
    "vifs=[variance_inflation_factor(x_vifs, i) for i in range(len(x_vifs.columns))]\n",
    "print(vifs)"
   ]
  },
  {
   "cell_type": "code",
   "execution_count": 9,
   "metadata": {},
   "outputs": [
    {
     "name": "stdout",
     "output_type": "stream",
     "text": [
      "                             OLS Regression Results                            \n",
      "===============================================================================\n",
      "Dep. Variable:     actual_productivity   R-squared:                       0.308\n",
      "Model:                             OLS   Adj. R-squared:                  0.296\n",
      "Method:                  Least Squares   F-statistic:                     25.05\n",
      "Date:                 Mon, 11 Mar 2024   Prob (F-statistic):           1.01e-57\n",
      "Time:                         22:25:10   Log-Likelihood:                 456.53\n",
      "No. Observations:                  861   AIC:                            -881.1\n",
      "Df Residuals:                      845   BIC:                            -804.9\n",
      "Df Model:                           15                                         \n",
      "Covariance Type:             nonrobust                                         \n",
      "===========================================================================================\n",
      "                              coef    std err          t      P>|t|      [0.025      0.975]\n",
      "-------------------------------------------------------------------------------------------\n",
      "Intercept                   0.8008      0.019     42.130      0.000       0.763       0.838\n",
      "C(department)[T.sweing]    -0.1618      0.031     -5.160      0.000      -0.223      -0.100\n",
      "C(team)[T.2]               -0.0196      0.023     -0.847      0.397      -0.065       0.026\n",
      "C(team)[T.3]               -0.0025      0.024     -0.106      0.916      -0.049       0.044\n",
      "C(team)[T.4]                0.0048      0.024      0.202      0.840      -0.042       0.051\n",
      "C(team)[T.5]               -0.0325      0.026     -1.270      0.205      -0.083       0.018\n",
      "C(team)[T.6]               -0.0689      0.025     -2.789      0.005      -0.117      -0.020\n",
      "C(team)[T.7]               -0.0535      0.024     -2.221      0.027      -0.101      -0.006\n",
      "C(team)[T.8]               -0.0516      0.024     -2.155      0.031      -0.099      -0.005\n",
      "C(team)[T.9]               -0.0517      0.023     -2.249      0.025      -0.097      -0.007\n",
      "C(team)[T.10]              -0.0475      0.024     -1.964      0.050      -0.095   -3.67e-05\n",
      "C(team)[T.11]              -0.0709      0.027     -2.670      0.008      -0.123      -0.019\n",
      "C(team)[T.12]              -0.0279      0.025     -1.108      0.268      -0.077       0.022\n",
      "over_time               -4.475e-06   2.21e-06     -2.021      0.044   -8.82e-06   -1.29e-07\n",
      "incentive                   0.0041      0.000     16.557      0.000       0.004       0.005\n",
      "smv                        -0.0013      0.001     -0.907      0.365      -0.004       0.001\n",
      "==============================================================================\n",
      "Omnibus:                      121.348   Durbin-Watson:                   1.935\n",
      "Prob(Omnibus):                  0.000   Jarque-Bera (JB):              194.714\n",
      "Skew:                          -0.925   Prob(JB):                     5.23e-43\n",
      "Kurtosis:                       4.417   Cond. No.                     7.02e+04\n",
      "==============================================================================\n",
      "\n",
      "Notes:\n",
      "[1] Standard Errors assume that the covariance matrix of the errors is correctly specified.\n",
      "[2] The condition number is large, 7.02e+04. This might indicate that there are\n",
      "strong multicollinearity or other numerical problems.\n"
     ]
    }
   ],
   "source": [
    "model_ALR_Corr = smf.ols(formula=\"actual_productivity ~ C(department)+C(team)+over_time+incentive+smv\", data=df_train).fit()\n",
    "\n",
    "print(model_ALR_Corr.summary())"
   ]
  },
  {
   "cell_type": "code",
   "execution_count": 10,
   "metadata": {},
   "outputs": [
    {
     "name": "stdout",
     "output_type": "stream",
     "text": [
      "                             OLS Regression Results                            \n",
      "===============================================================================\n",
      "Dep. Variable:     actual_productivity   R-squared:                       0.307\n",
      "Model:                             OLS   Adj. R-squared:                  0.296\n",
      "Method:                  Least Squares   F-statistic:                     26.79\n",
      "Date:                 Mon, 11 Mar 2024   Prob (F-statistic):           2.85e-58\n",
      "Time:                         22:25:10   Log-Likelihood:                 456.12\n",
      "No. Observations:                  861   AIC:                            -882.2\n",
      "Df Residuals:                      846   BIC:                            -810.9\n",
      "Df Model:                           14                                         \n",
      "Covariance Type:             nonrobust                                         \n",
      "===========================================================================================\n",
      "                              coef    std err          t      P>|t|      [0.025      0.975]\n",
      "-------------------------------------------------------------------------------------------\n",
      "Intercept                   0.7949      0.018     44.488      0.000       0.760       0.830\n",
      "C(department)[T.sweing]    -0.1853      0.018    -10.490      0.000      -0.220      -0.151\n",
      "C(team)[T.2]               -0.0189      0.023     -0.816      0.415      -0.064       0.027\n",
      "C(team)[T.3]               -0.0034      0.024     -0.146      0.884      -0.050       0.043\n",
      "C(team)[T.4]                0.0041      0.024      0.174      0.862      -0.042       0.051\n",
      "C(team)[T.5]               -0.0327      0.026     -1.276      0.202      -0.083       0.018\n",
      "C(team)[T.6]               -0.0629      0.024     -2.643      0.008      -0.110      -0.016\n",
      "C(team)[T.7]               -0.0549      0.024     -2.284      0.023      -0.102      -0.008\n",
      "C(team)[T.8]               -0.0518      0.024     -2.164      0.031      -0.099      -0.005\n",
      "C(team)[T.9]               -0.0514      0.023     -2.240      0.025      -0.097      -0.006\n",
      "C(team)[T.10]              -0.0456      0.024     -1.894      0.059      -0.093       0.002\n",
      "C(team)[T.11]              -0.0619      0.025     -2.513      0.012      -0.110      -0.014\n",
      "C(team)[T.12]              -0.0211      0.024     -0.877      0.381      -0.068       0.026\n",
      "over_time               -4.727e-06    2.2e-06     -2.152      0.032   -9.04e-06   -4.15e-07\n",
      "incentive                   0.0041      0.000     16.710      0.000       0.004       0.005\n",
      "==============================================================================\n",
      "Omnibus:                      122.552   Durbin-Watson:                   1.933\n",
      "Prob(Omnibus):                  0.000   Jarque-Bera (JB):              197.290\n",
      "Skew:                          -0.931   Prob(JB):                     1.44e-43\n",
      "Kurtosis:                       4.426   Cond. No.                     6.90e+04\n",
      "==============================================================================\n",
      "\n",
      "Notes:\n",
      "[1] Standard Errors assume that the covariance matrix of the errors is correctly specified.\n",
      "[2] The condition number is large, 6.9e+04. This might indicate that there are\n",
      "strong multicollinearity or other numerical problems.\n"
     ]
    }
   ],
   "source": [
    "model_ALR_Corr_sinsmv = smf.ols(formula=\"actual_productivity ~ C(department)+C(team)+over_time+incentive\", data=df_train).fit()\n",
    "\n",
    "print(model_ALR_Corr_sinsmv.summary())"
   ]
  },
  {
   "cell_type": "code",
   "execution_count": 11,
   "metadata": {},
   "outputs": [
    {
     "name": "stdout",
     "output_type": "stream",
     "text": [
      "Intercept                  0.794920\n",
      "C(department)[T.sweing]   -0.185258\n",
      "C(team)[T.2]              -0.018902\n",
      "C(team)[T.3]              -0.003449\n",
      "C(team)[T.4]               0.004133\n",
      "C(team)[T.5]              -0.032679\n",
      "C(team)[T.6]              -0.062889\n",
      "C(team)[T.7]              -0.054918\n",
      "C(team)[T.8]              -0.051835\n",
      "C(team)[T.9]              -0.051450\n",
      "C(team)[T.10]             -0.045606\n",
      "C(team)[T.11]             -0.061901\n",
      "C(team)[T.12]             -0.021129\n",
      "over_time                 -0.000005\n",
      "incentive                  0.004122\n",
      "dtype: float64\n"
     ]
    }
   ],
   "source": [
    "print(model_ALR_Corr_sinsmv.params)"
   ]
  },
  {
   "cell_type": "code",
   "execution_count": 12,
   "metadata": {},
   "outputs": [
    {
     "name": "stdout",
     "output_type": "stream",
     "text": [
      "0.8231520554172927\n",
      "Ep p-value es 0.6355 entonces se acepta la hipotesis nula y el modelo reducido es mejor\n"
     ]
    }
   ],
   "source": [
    "import scipy.stats as stats\n",
    "\n",
    "ssr_comp=model_ALR_Corr.ess\n",
    "ssr_red=model_ALR_Corr_sinsmv.ess\n",
    "gle_comp=model_ALR_Corr.df_resid\n",
    "sse_comp=model_ALR_Corr.ssr\n",
    "mse_comp=sse_comp/gle_comp\n",
    "glr_comp=model_ALR_Corr.df_model\n",
    "glr_red=model_ALR_Corr_sinsmv.df_model\n",
    "\n",
    "F_parcial=((ssr_comp-ssr_red)/(glr_comp-glr_red))/mse_comp\n",
    "p_valor = stats.f.cdf(F_parcial,(glr_comp-glr_red),gle_comp)\n",
    "\n",
    "print(F_parcial)\n",
    "print(\"Ep p-value es \" +str(round(p_valor,4))+ \" entonces se acepta la hipotesis nula y el modelo reducido es mejor\")"
   ]
  },
  {
   "cell_type": "code",
   "execution_count": 13,
   "metadata": {},
   "outputs": [
    {
     "name": "stdout",
     "output_type": "stream",
     "text": [
      "[2.4800048157469265, 2.480004815746926]\n"
     ]
    }
   ],
   "source": [
    "x_vifs2=df_train.drop(columns=[\"department\",\"team\",\"smv\",\"no_of_workers\",\"actual_productivity\"])\n",
    "\n",
    "vifs2=[variance_inflation_factor(x_vifs2, i) for i in range(len(x_vifs2.columns))]\n",
    "print(vifs2)\n"
   ]
  },
  {
   "cell_type": "markdown",
   "metadata": {},
   "source": [
    "# Modelo Targeted Productivity"
   ]
  },
  {
   "cell_type": "code",
   "execution_count": 14,
   "metadata": {},
   "outputs": [
    {
     "data": {
      "text/html": [
       "<div>\n",
       "<style scoped>\n",
       "    .dataframe tbody tr th:only-of-type {\n",
       "        vertical-align: middle;\n",
       "    }\n",
       "\n",
       "    .dataframe tbody tr th {\n",
       "        vertical-align: top;\n",
       "    }\n",
       "\n",
       "    .dataframe thead th {\n",
       "        text-align: right;\n",
       "    }\n",
       "</style>\n",
       "<table border=\"1\" class=\"dataframe\">\n",
       "  <thead>\n",
       "    <tr style=\"text-align: right;\">\n",
       "      <th></th>\n",
       "      <th>department</th>\n",
       "      <th>team</th>\n",
       "      <th>smv</th>\n",
       "      <th>over_time</th>\n",
       "      <th>incentive</th>\n",
       "      <th>no_of_workers</th>\n",
       "      <th>targeted_productivity</th>\n",
       "    </tr>\n",
       "  </thead>\n",
       "  <tbody>\n",
       "    <tr>\n",
       "      <th>331</th>\n",
       "      <td>sweing</td>\n",
       "      <td>3</td>\n",
       "      <td>22.52</td>\n",
       "      <td>8460</td>\n",
       "      <td>50</td>\n",
       "      <td>57.0</td>\n",
       "      <td>0.70</td>\n",
       "    </tr>\n",
       "    <tr>\n",
       "      <th>215</th>\n",
       "      <td>finishing</td>\n",
       "      <td>9</td>\n",
       "      <td>3.94</td>\n",
       "      <td>1440</td>\n",
       "      <td>0</td>\n",
       "      <td>8.0</td>\n",
       "      <td>0.80</td>\n",
       "    </tr>\n",
       "    <tr>\n",
       "      <th>72</th>\n",
       "      <td>sweing</td>\n",
       "      <td>12</td>\n",
       "      <td>11.61</td>\n",
       "      <td>7200</td>\n",
       "      <td>50</td>\n",
       "      <td>32.0</td>\n",
       "      <td>0.80</td>\n",
       "    </tr>\n",
       "    <tr>\n",
       "      <th>639</th>\n",
       "      <td>sweing</td>\n",
       "      <td>12</td>\n",
       "      <td>15.26</td>\n",
       "      <td>2880</td>\n",
       "      <td>63</td>\n",
       "      <td>34.0</td>\n",
       "      <td>0.80</td>\n",
       "    </tr>\n",
       "    <tr>\n",
       "      <th>803</th>\n",
       "      <td>sweing</td>\n",
       "      <td>7</td>\n",
       "      <td>30.10</td>\n",
       "      <td>2280</td>\n",
       "      <td>45</td>\n",
       "      <td>59.0</td>\n",
       "      <td>0.75</td>\n",
       "    </tr>\n",
       "  </tbody>\n",
       "</table>\n",
       "</div>"
      ],
      "text/plain": [
       "    department  team    smv  over_time  incentive  no_of_workers  \\\n",
       "331     sweing     3  22.52       8460         50           57.0   \n",
       "215  finishing     9   3.94       1440          0            8.0   \n",
       "72      sweing    12  11.61       7200         50           32.0   \n",
       "639     sweing    12  15.26       2880         63           34.0   \n",
       "803     sweing     7  30.10       2280         45           59.0   \n",
       "\n",
       "     targeted_productivity  \n",
       "331                   0.70  \n",
       "215                   0.80  \n",
       "72                    0.80  \n",
       "639                   0.80  \n",
       "803                   0.75  "
      ]
     },
     "execution_count": 14,
     "metadata": {},
     "output_type": "execute_result"
    }
   ],
   "source": [
    "#model_ALR = smf.ols(formula=\"actual_productivity ~ C(department)+C(quarter)+C(team)+smv+over_time+incentive+no_of_workers\", data=dflimpio).fit()\n",
    "Factores2= [\"department\", \"team\", \"smv\", \"over_time\", \"incentive\", \"no_of_workers\"]\n",
    "\n",
    "\n",
    "X2 = dflimpio[Factores2]\n",
    "y2 = dflimpio[\"targeted_productivity\"]\n",
    "\n",
    "X_train2, X_test2, y_train2, y_test2 = train_test_split(X2, y2, random_state=1)\n",
    "\n",
    "df_train2=X_train2.assign(targeted_productivity=y_train2)\n",
    "df_train2.head()\n"
   ]
  },
  {
   "cell_type": "code",
   "execution_count": 15,
   "metadata": {},
   "outputs": [
    {
     "name": "stdout",
     "output_type": "stream",
     "text": [
      "                              OLS Regression Results                             \n",
      "=================================================================================\n",
      "Dep. Variable:     targeted_productivity   R-squared:                       0.210\n",
      "Model:                               OLS   Adj. R-squared:                  0.195\n",
      "Method:                    Least Squares   F-statistic:                     14.01\n",
      "Date:                   Mon, 11 Mar 2024   Prob (F-statistic):           6.58e-34\n",
      "Time:                           22:25:10   Log-Likelihood:                 879.98\n",
      "No. Observations:                    861   AIC:                            -1726.\n",
      "Df Residuals:                        844   BIC:                            -1645.\n",
      "Df Model:                             16                                         \n",
      "Covariance Type:               nonrobust                                         \n",
      "===========================================================================================\n",
      "                              coef    std err          t      P>|t|      [0.025      0.975]\n",
      "-------------------------------------------------------------------------------------------\n",
      "Intercept                   0.7347      0.012     58.848      0.000       0.710       0.759\n",
      "C(department)[T.sweing]    -0.0789      0.024     -3.228      0.001      -0.127      -0.031\n",
      "C(team)[T.2]                0.0132      0.014      0.931      0.352      -0.015       0.041\n",
      "C(team)[T.3]                0.0149      0.014      1.028      0.304      -0.014       0.043\n",
      "C(team)[T.4]               -0.0021      0.015     -0.145      0.885      -0.031       0.026\n",
      "C(team)[T.5]               -0.0221      0.016     -1.410      0.159      -0.053       0.009\n",
      "C(team)[T.6]                0.0205      0.016      1.273      0.203      -0.011       0.052\n",
      "C(team)[T.7]                0.0161      0.015      1.091      0.275      -0.013       0.045\n",
      "C(team)[T.8]                0.0059      0.015      0.404      0.686      -0.023       0.035\n",
      "C(team)[T.9]                0.0386      0.014      2.744      0.006       0.011       0.066\n",
      "C(team)[T.10]               0.0253      0.015      1.713      0.087      -0.004       0.054\n",
      "C(team)[T.11]               0.0080      0.017      0.482      0.630      -0.025       0.040\n",
      "C(team)[T.12]               0.0414      0.016      2.527      0.012       0.009       0.073\n",
      "over_time               -2.506e-06   1.41e-06     -1.782      0.075   -5.27e-06    2.54e-07\n",
      "incentive                   0.0019      0.000     12.571      0.000       0.002       0.002\n",
      "no_of_workers              -0.0007      0.001     -1.085      0.278      -0.002       0.001\n",
      "smv                         0.0009      0.001      0.891      0.373      -0.001       0.003\n",
      "==============================================================================\n",
      "Omnibus:                      345.080   Durbin-Watson:                   1.986\n",
      "Prob(Omnibus):                  0.000   Jarque-Bera (JB):             1360.906\n",
      "Skew:                          -1.895   Prob(JB):                    3.04e-296\n",
      "Kurtosis:                       7.854   Cond. No.                     7.12e+04\n",
      "==============================================================================\n",
      "\n",
      "Notes:\n",
      "[1] Standard Errors assume that the covariance matrix of the errors is correctly specified.\n",
      "[2] The condition number is large, 7.12e+04. This might indicate that there are\n",
      "strong multicollinearity or other numerical problems.\n"
     ]
    }
   ],
   "source": [
    "model_TLR = smf.ols(formula=\"targeted_productivity ~ C(department)+C(team)+over_time+incentive+no_of_workers+smv\", data=df_train2).fit()\n",
    "\n",
    "print(model_TLR.summary())"
   ]
  },
  {
   "cell_type": "code",
   "execution_count": 16,
   "metadata": {},
   "outputs": [
    {
     "name": "stdout",
     "output_type": "stream",
     "text": [
      "                              OLS Regression Results                             \n",
      "=================================================================================\n",
      "Dep. Variable:     targeted_productivity   R-squared:                       0.209\n",
      "Model:                               OLS   Adj. R-squared:                  0.196\n",
      "Method:                    Least Squares   F-statistic:                     15.93\n",
      "Date:                   Mon, 11 Mar 2024   Prob (F-statistic):           7.59e-35\n",
      "Time:                           22:25:10   Log-Likelihood:                 879.30\n",
      "No. Observations:                    861   AIC:                            -1729.\n",
      "Df Residuals:                        846   BIC:                            -1657.\n",
      "Df Model:                             14                                         \n",
      "Covariance Type:               nonrobust                                         \n",
      "===========================================================================================\n",
      "                              coef    std err          t      P>|t|      [0.025      0.975]\n",
      "-------------------------------------------------------------------------------------------\n",
      "Intercept                   0.7312      0.011     66.901      0.000       0.710       0.753\n",
      "C(department)[T.sweing]    -0.0893      0.011     -8.270      0.000      -0.111      -0.068\n",
      "C(team)[T.2]                0.0124      0.014      0.873      0.383      -0.015       0.040\n",
      "C(team)[T.3]                0.0144      0.014      1.001      0.317      -0.014       0.043\n",
      "C(team)[T.4]               -0.0027      0.014     -0.186      0.853      -0.031       0.026\n",
      "C(team)[T.5]               -0.0222      0.016     -1.415      0.158      -0.053       0.009\n",
      "C(team)[T.6]                0.0251      0.015      1.723      0.085      -0.003       0.054\n",
      "C(team)[T.7]                0.0164      0.015      1.117      0.265      -0.012       0.045\n",
      "C(team)[T.8]                0.0064      0.015      0.435      0.664      -0.022       0.035\n",
      "C(team)[T.9]                0.0387      0.014      2.753      0.006       0.011       0.066\n",
      "C(team)[T.10]               0.0247      0.015      1.677      0.094      -0.004       0.054\n",
      "C(team)[T.11]               0.0023      0.015      0.152      0.879      -0.027       0.032\n",
      "C(team)[T.12]               0.0455      0.015      3.090      0.002       0.017       0.074\n",
      "over_time                -2.85e-06   1.34e-06     -2.121      0.034   -5.49e-06   -2.13e-07\n",
      "incentive                   0.0019      0.000     12.556      0.000       0.002       0.002\n",
      "==============================================================================\n",
      "Omnibus:                      346.835   Durbin-Watson:                   1.982\n",
      "Prob(Omnibus):                  0.000   Jarque-Bera (JB):             1376.355\n",
      "Skew:                          -1.904   Prob(JB):                    1.34e-299\n",
      "Kurtosis:                       7.886   Cond. No.                     6.90e+04\n",
      "==============================================================================\n",
      "\n",
      "Notes:\n",
      "[1] Standard Errors assume that the covariance matrix of the errors is correctly specified.\n",
      "[2] The condition number is large, 6.9e+04. This might indicate that there are\n",
      "strong multicollinearity or other numerical problems.\n"
     ]
    }
   ],
   "source": [
    "model_TLR_2 = smf.ols(formula=\"targeted_productivity ~ C(department)+C(team)+over_time+incentive\", data=df_train2).fit()\n",
    "\n",
    "print(model_TLR_2.summary())"
   ]
  },
  {
   "cell_type": "code",
   "execution_count": 17,
   "metadata": {},
   "outputs": [
    {
     "name": "stdout",
     "output_type": "stream",
     "text": [
      "0.6590957528507689\n",
      "Ep p-value es 0.4824 entonces se acepta la hipotesis nula y el modelo reducido es mejor\n"
     ]
    }
   ],
   "source": [
    "import scipy.stats as stats\n",
    "\n",
    "ssr_comp=model_TLR.ess\n",
    "ssr_red=model_TLR_2.ess\n",
    "gle_comp=model_TLR.df_resid\n",
    "sse_comp=model_TLR.ssr\n",
    "mse_comp=sse_comp/gle_comp\n",
    "glr_comp=model_TLR.df_model\n",
    "glr_red=model_TLR_2.df_model\n",
    "\n",
    "F_parcial=((ssr_comp-ssr_red)/(glr_comp-glr_red))/mse_comp\n",
    "p_valor = stats.f.cdf(F_parcial,(glr_comp-glr_red),gle_comp)\n",
    "\n",
    "print(F_parcial)\n",
    "print(\"Ep p-value es \" +str(round(p_valor,4))+ \" entonces se acepta la hipotesis nula y el modelo reducido es mejor\")"
   ]
  },
  {
   "cell_type": "code",
   "execution_count": 18,
   "metadata": {},
   "outputs": [
    {
     "name": "stdout",
     "output_type": "stream",
     "text": [
      "Intercept                  0.731224\n",
      "C(department)[T.sweing]   -0.089341\n",
      "C(team)[T.2]               0.012373\n",
      "C(team)[T.3]               0.014434\n",
      "C(team)[T.4]              -0.002691\n",
      "C(team)[T.5]              -0.022166\n",
      "C(team)[T.6]               0.025077\n",
      "C(team)[T.7]               0.016419\n",
      "C(team)[T.8]               0.006372\n",
      "C(team)[T.9]               0.038684\n",
      "C(team)[T.10]              0.024695\n",
      "C(team)[T.11]              0.002289\n",
      "C(team)[T.12]              0.045522\n",
      "over_time                 -0.000003\n",
      "incentive                  0.001895\n",
      "dtype: float64\n"
     ]
    }
   ],
   "source": [
    "print(model_TLR_2.params)"
   ]
  },
  {
   "cell_type": "markdown",
   "metadata": {},
   "source": [
    "# Medidas de error"
   ]
  },
  {
   "cell_type": "code",
   "execution_count": 28,
   "metadata": {},
   "outputs": [
    {
     "name": "stdout",
     "output_type": "stream",
     "text": [
      "MAE:  0.09909402984673578\n",
      "MSE:  0.01984616697526411\n",
      "RMSE:  0.14087642448353135\n",
      "MAPE:  0.17420761182993322\n",
      "MAE:  0.05570839444974106\n",
      "MSE:  0.006294443404494828\n",
      "RMSE:  0.07933752834878856\n",
      "MAPE:  0.08675671813407411\n"
     ]
    }
   ],
   "source": [
    "from sklearn import metrics\n",
    "import numpy as np\n",
    "\n",
    "y_reg_actual=model_ALR_Corr_sinsmv.predict(X_test)\n",
    "y_reg_target=model_TLR_2.predict(X_test2)\n",
    "\n",
    "# mean absolute error\n",
    "MAE_A = metrics.mean_absolute_error(y_test, y_reg_actual)\n",
    "\n",
    "# mean squared error\n",
    "MSE_A = metrics.mean_squared_error(y_test, y_reg_actual)\n",
    "\n",
    "MAPE_A = metrics.mean_absolute_percentage_error(y_test, y_reg_actual)\n",
    "\n",
    "# root mean squared error\n",
    "RMSE_A = np.sqrt(MSE_A)\n",
    "\n",
    "# mean absolute error\n",
    "MAE_T = metrics.mean_absolute_error(y_test2, y_reg_target)\n",
    "\n",
    "# mean squared error\n",
    "MSE_T = metrics.mean_squared_error(y_test2, y_reg_target)\n",
    "\n",
    "MAPE_T = metrics.mean_absolute_percentage_error(y_test2, y_reg_target)\n",
    "\n",
    "# root mean squared error\n",
    "RMSE_T = np.sqrt(MSE_T)\n",
    "\n",
    "print(\"MAE: \", MAE_A)\n",
    "print(\"MSE: \", MSE_A)\n",
    "print(\"RMSE: \", RMSE_A)\n",
    "print(\"MAPE: \", MAPE_A)\n",
    "\n",
    "print(\"MAE: \", MAE_T)\n",
    "print(\"MSE: \", MSE_T)\n",
    "print(\"RMSE: \", RMSE_T)\n",
    "print(\"MAPE: \", MAPE_T)"
   ]
  }
 ],
 "metadata": {
  "kernelspec": {
   "display_name": "Python 3",
   "language": "python",
   "name": "python3"
  },
  "language_info": {
   "codemirror_mode": {
    "name": "ipython",
    "version": 3
   },
   "file_extension": ".py",
   "mimetype": "text/x-python",
   "name": "python",
   "nbconvert_exporter": "python",
   "pygments_lexer": "ipython3",
   "version": "3.11.7"
  }
 },
 "nbformat": 4,
 "nbformat_minor": 2
}
